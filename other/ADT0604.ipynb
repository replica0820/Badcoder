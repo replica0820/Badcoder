{
 "cells": [
  {
   "cell_type": "code",
   "execution_count": null,
   "id": "1c43cc98",
   "metadata": {},
   "outputs": [
    {
     "name": "stdout",
     "output_type": "stream",
     "text": [
      "No\n"
     ]
    }
   ],
   "source": [
    "a,b = map(int,input().split())\n",
    "\n",
    "x = [[2,3],[1,4,5],[1,6,7],[2,8,9],[2,10,11],[3,12,13],[3,14,15],[4],[4],[5],[5],[6],[6],[7],[7]]\n",
    "\n",
    "if b in x[a-1]:\n",
    "    print(\"Yes\")\n",
    "else:\n",
    "    print(\"No\")"
   ]
  },
  {
   "cell_type": "code",
   "execution_count": 6,
   "id": "0719b621",
   "metadata": {},
   "outputs": [
    {
     "name": "stdout",
     "output_type": "stream",
     "text": [
      "No\n"
     ]
    }
   ],
   "source": [
    "S = list(input())\n",
    "n = len(S)\n",
    "\n",
    "if S[n-3] == 's' and S[n-2] == 'a' and S[n-1] == 'n':\n",
    "    print(\"Yes\")\n",
    "else:\n",
    "    print(\"No\")"
   ]
  },
  {
   "cell_type": "code",
   "execution_count": 8,
   "id": "61f0b287",
   "metadata": {},
   "outputs": [
    {
     "name": "stdout",
     "output_type": "stream",
     "text": [
      "500000\n"
     ]
    }
   ],
   "source": [
    "n = int(input())\n",
    "\n",
    "if n <= 10**3 - 1:\n",
    "    print(n)\n",
    "elif n <= 10**4 -1:\n",
    "    print(n//10 * 10)\n",
    "elif n <= 10**5 -1:\n",
    "    print(n//100 * 100)\n",
    "elif n <= 10**6 -1:\n",
    "    print(n//1000 * 1000)\n",
    "elif n <= 10**7 -1:\n",
    "    print(n//10000 * 10000)\n",
    "elif n <= 10**8 -1:\n",
    "    print(n//100000 * 100000)\n",
    "elif n <= 10**9 -1:\n",
    "    print(n//1000000 * 1000000)\n"
   ]
  },
  {
   "cell_type": "code",
   "execution_count": 17,
   "id": "93a0e9f4",
   "metadata": {},
   "outputs": [
    {
     "name": "stdout",
     "output_type": "stream",
     "text": [
      "2 4 5\n"
     ]
    }
   ],
   "source": [
    "n,k,q = map(int,input().split())\n",
    "now = list(map(int,input().split()))\n",
    "step = list(map(int,input().split()))\n",
    "for i in range(q):\n",
    "    if step[i] == k:\n",
    "        if now[step[i]-1] < n:\n",
    "            now[step[i]-1] += 1\n",
    "    else:\n",
    "        if now[step[i]-1] < now[step[i]] - 1:\n",
    "            now[step[i]-1] += 1\n",
    "print(*now)"
   ]
  },
  {
   "cell_type": "code",
   "execution_count": null,
   "id": "eff6bfec",
   "metadata": {},
   "outputs": [],
   "source": [
    "n = int(input())\n",
    "x = [] * n\n",
    "for i in range(n):\n",
    "    a = list(map(int,input().split()))\n",
    "    x.append(a)\n",
    "print(sorted(x))"
   ]
  }
 ],
 "metadata": {
  "kernelspec": {
   "display_name": "Python 3",
   "language": "python",
   "name": "python3"
  },
  "language_info": {
   "codemirror_mode": {
    "name": "ipython",
    "version": 3
   },
   "file_extension": ".py",
   "mimetype": "text/x-python",
   "name": "python",
   "nbconvert_exporter": "python",
   "pygments_lexer": "ipython3",
   "version": "3.8.10"
  }
 },
 "nbformat": 4,
 "nbformat_minor": 5
}
