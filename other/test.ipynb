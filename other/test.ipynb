{
 "cells": [
  {
   "cell_type": "code",
   "execution_count": null,
   "metadata": {},
   "outputs": [
    {
     "name": "stdout",
     "output_type": "stream",
     "text": [
      "Hello,World\n"
     ]
    }
   ],
   "source": [
    "print(\"Hello,World\")"
   ]
  },
  {
   "cell_type": "code",
   "execution_count": null,
   "metadata": {},
   "outputs": [
    {
     "name": "stdout",
     "output_type": "stream",
     "text": [
      "Yes\n"
     ]
    }
   ],
   "source": [
    "n,s = map(int,input().split())\n",
    "a = list(map(int,input().split()))\n",
    "if a[0] > s:\n",
    "    print(\"No\")\n",
    "    exit()\n",
    "for i in range(n-1):\n",
    "    if a[i+1] - a[i] > s:\n",
    "        print(\"No\")\n",
    "        exit()\n",
    "print(\"Yes\")"
   ]
  },
  {
   "cell_type": "code",
   "execution_count": null,
   "metadata": {},
   "outputs": [
    {
     "name": "stdout",
     "output_type": "stream",
     "text": [
      "3\n",
      "1 3 4\n"
     ]
    }
   ],
   "source": [
    "n = int(input())\n",
    "A = list(map(int,input().split()))\n",
    "ans = set()\n",
    "\n",
    "for i in range(n):\n",
    "    ans.add(A[i])\n",
    "\n",
    "print(len(ans))\n",
    "print(*sorted(ans))"
   ]
  },
  {
   "cell_type": "code",
   "execution_count": null,
   "metadata": {},
   "outputs": [
    {
     "name": "stdout",
     "output_type": "stream",
     "text": [
      "1\n"
     ]
    }
   ],
   "source": [
    "#差分配列法(imot)\n",
    "n, m = map(int, input().split())\n",
    "diff = [0] * (n + 1)\n",
    "\n",
    "for _ in range(m):\n",
    "    l, r = map(int, input().split())\n",
    "    diff[l - 1] += 1\n",
    "    diff[r] -= 1\n",
    "\n",
    "ans = [0] * n\n",
    "ans[0] = diff[0]\n",
    "for i in range(1, n):\n",
    "    ans[i] = ans[i - 1] + diff[i]\n",
    "\n",
    "print(min(ans))\n"
   ]
  },
  {
   "cell_type": "code",
   "execution_count": 8,
   "metadata": {},
   "outputs": [
    {
     "name": "stdout",
     "output_type": "stream",
     "text": [
      "[0, 0, 0, 1, 1]\n"
     ]
    }
   ],
   "source": [
    "l = [0] * 5\n",
    "x = l[3:]\n",
    "x = list(map(lambda y:y+1,x))\n",
    "l[3:] = x\n",
    "print(l)"
   ]
  },
  {
   "cell_type": "code",
   "execution_count": null,
   "metadata": {},
   "outputs": [],
   "source": [
    "import heapq\n",
    "\n",
    "#必要な物：ノード数、テーブル（重み,ノード番号）、スタート、終了\n",
    "def dijkstra(n,table,start,finish):\n",
    "    visit = [False]*(n+2) #訪問行列\n",
    "    length = [float(\"inf\")]*(n+2) #startから各ノードまでの最短経路の長さ\n",
    "    \n",
    "    #準備＝＝＝＝＝＝＝＝＝＝\n",
    "    length[start]=0#スタートの長さは０\n",
    "    hp = []#未訪問の最短経路を記録\n",
    "    heapq.heappush(hp,(0,start))#（0,start）＝（重み、ノード番号） #スタートを追加\n",
    "    #＝＝＝＝＝＝＝＝＝＝＝＝\n",
    "    \n",
    "    \n",
    "    while(hp):\n",
    "        w,x = heapq.heappop(hp)\n",
    "        \n",
    "        if(visit[x]==True):\n",
    "            #既に訪問が完了しているノードなので以下の操作は行わない。continueする。\n",
    "            continue\n",
    "        visit[x]=True\n",
    "        \n",
    "        for l,y in table[x]:\n",
    "            if(not visit[y] and (length[y]>w+l)):\n",
    "                length[y]=w+l\n",
    "                heapq.heappush(hp,(length[y],y))\n",
    "    \n",
    "    #return length[n] #ノードnまでの最短経路を返す場合\n",
    "    #return length #各ノードの最短路の長さを返す場合"
   ]
  }
 ],
 "metadata": {
  "kernelspec": {
   "display_name": "Python 3",
   "language": "python",
   "name": "python3"
  },
  "language_info": {
   "codemirror_mode": {
    "name": "ipython",
    "version": 3
   },
   "file_extension": ".py",
   "mimetype": "text/x-python",
   "name": "python",
   "nbconvert_exporter": "python",
   "pygments_lexer": "ipython3",
   "version": "3.8.10"
  }
 },
 "nbformat": 4,
 "nbformat_minor": 2
}
